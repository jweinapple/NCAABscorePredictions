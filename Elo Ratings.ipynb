{
 "cells": [
  {
   "cell_type": "markdown",
   "metadata": {},
   "source": [
    "# Elo Ratings\n",
    "#### The Elo rating system is a method for calculating the relative skill levels of Teams in zero-sum games such as Basketball."
   ]
  },
  {
   "cell_type": "code",
   "execution_count": 2,
   "metadata": {},
   "outputs": [],
   "source": [
    "import pandas as pd \n",
    "from plotnine import *\n",
    "pd.set_option('display.max_columns', None)\n",
    "#load game data cleaned\n",
    "games = pd.read_csv(r'~/jupyter/capstone_Group10/data/gamedatacleaned-test.csv')\n",
    "#rename unamed columns\n",
    "games.rename(columns = {'Unnamed: 0':'GameDateKey'}, inplace = True)\n",
    "\n"
   ]
  },
  {
   "cell_type": "markdown",
   "metadata": {},
   "source": [
    "Calculating elo metric using the Teams in Game Data Cleaned dataset. First we need to find columns for Winning team, winning score, losing team, and losing score added to the Dataframe.\n",
    "\n",
    "The elo metric awards the winner by adding points and the loser loses points so it remains a zero-sum game."
   ]
  },
  {
   "cell_type": "code",
   "execution_count": null,
   "metadata": {},
   "outputs": [],
   "source": [
    "#create empyty lists to find Wteam, LTeam, Winner Score, and Loser Score\n",
    "hometeam = []\n",
    "awayteam =[]\n",
    "Lteamscore = []\n",
    "Wteamscore = []\n",
    "wloc = []\n",
    "\n",
    "for index, row in games.iterrows():\n",
    "    if row['winner'] == 'Home':\n",
    "        hometeam.append(row['hometeam']) \n",
    "        Wteamscore.append(row['home_points'])\n",
    "        awayteam.append(row['awayteam'])\n",
    "        Lteamscore.append(row['away_points'])\n",
    "        wloc.append(row['winner'])\n",
    "    else: #Away wins \n",
    "        hometeam.append(row['awayteam'])\n",
    "        awayteam.append(row['hometeam'])\n",
    "        Wteamscore.append(row['away_points'])\n",
    "        Lteamscore.append(row['home_points'])\n",
    "        wloc.append(row['winner'])\n",
    "#assigning new columns to Dataframe  \n",
    "games['Wteam'] = hometeam\n",
    "games['Lteam'] = awayteam\n",
    "games['WScore'] = Wteamscore\n",
    "games['LScore'] = Lteamscore\n",
    "games['wloc'] = wloc"
   ]
  },
  {
   "cell_type": "markdown",
   "metadata": {},
   "source": [
    "Going to select specific columns from the Dataframe and create new column for margin of victory. The margin of victory is included when calculating Elo metric. "
   ]
  },
  {
   "cell_type": "code",
   "execution_count": null,
   "metadata": {},
   "outputs": [],
   "source": [
    "#pulling necessary columns into new dataframe\n",
    "a = games[[\"WScore\",\"LScore\",\"Wteam\",\"Lteam\", \"wloc\", \"date\"]]\n",
    "#calculating margin of victory for games\n",
    "a['margin'] = a['WScore']  -  a['LScore']\n",
    "#converting date to year for season\n",
    "a[\"Season\"] = pd.to_datetime(a[\"date\"]).dt.year\n",
    "#Elo is updated based on margin of victory\n",
    "a['margin']=a.WScore-a.LScore"
   ]
  },
  {
   "cell_type": "markdown",
   "metadata": {},
   "source": [
    "Creating Dictionary of Team Names from game data cleaned. The dictionary will store Team Name and Elo Rating which can be updated as we parse game data cleaned and update the values accordingly. \n",
    "Each will start at the value 1500 which represents and average team. Since we are using end of year stats for the model we figured even though every team starts at the same value by the end of the season they would diverge towards \n",
    "expected values. Then for the years after the metric would be even more representative of team performance."
   ]
  },
  {
   "cell_type": "code",
   "execution_count": null,
   "metadata": {},
   "outputs": [],
   "source": [
    "#create list of teams in the dataset\n",
    "team_ids = set(a.Wteam).union(set(a.Lteam))\n",
    "\n",
    "#create dictionary of team names and elo values\n",
    "#every team started at the average ranking of 1500 \n",
    "elo_dict=dict(zip(list(team_ids),[1500]*len(team_ids)))"
   ]
  },
  {
   "cell_type": "markdown",
   "metadata": {},
   "source": [
    "We created three functions to calculate the values. The first two functions are utillized in the last function to calculate elo prediction and expection margin based on elo. Which will be used on game data cleaned to calculate metric."
   ]
  },
  {
   "cell_type": "code",
   "execution_count": null,
   "metadata": {},
   "outputs": [],
   "source": [
    "#calculates elo- inputs include Team 1 Elo and Team 2 Elo\n",
    "#Elo ratings 1/10*(ELO1-ELO2/400)+1\n",
    "def elo_pred(elo1,elo2):\n",
    "    return(1./(10.**(-(elo1-elo2)/400.)+1.))\n",
    "\n",
    "#expected margin of victory based on elo ratings\n",
    "#the difference in rating is included in elo metric\n",
    "def expected_margin(elo_diff):\n",
    "    return((7.5+0.006*elo_diff))\n",
    "\n",
    "#calculate elo score based on inputs\n",
    "def elo_update(w_elo,l_elo,margin):\n",
    "    elo_diff = w_elo-l_elo #difference between elo scores\n",
    "    #elo prediction function using input Winning Elo and Losing Elo\n",
    "    pred=elo_pred(w_elo,l_elo)\n",
    "    #comparing margin to expected margin using above function\n",
    "    mult=((margin+3.) **0.8)/expected_margin(elo_diff)\n",
    "    #update is proportional to how much over or under performs the expected outcome\n",
    "    update=K*mult*(1-pred)\n",
    "    return(pred,update)"
   ]
  },
  {
   "cell_type": "markdown",
   "metadata": {},
   "source": [
    "Then the functions are applied to game data cleaned "
   ]
  },
  {
   "cell_type": "code",
   "execution_count": null,
   "metadata": {},
   "outputs": [],
   "source": [
    "#create empty lists\n",
    "preds=[]\n",
    "w_elo=[]\n",
    "l_elo=[]\n",
    "#affects how quickly elo reacts to new information\n",
    "K = 15.\n",
    "#Home advantage is included \n",
    "HOME_ADVANTAGE=100.\n",
    "for index,row in a.iterrows():\n",
    "    w=row.Wteam\n",
    "    l=row.Lteam\n",
    "    margin=row.margin\n",
    "    wloc=row.wloc\n",
    "\n",
    "    # Home advantage is included in metric\n",
    "    w_ad, l_ad, = 0., 0.\n",
    "    if wloc == \"Home\":\n",
    "        w_ad += HOME_ADVANTAGE\n",
    "    elif wloc == \"Away\":\n",
    "        l_ad += HOME_ADVANTAGE\n",
    "    \n",
    "    # Get elo updates as a result of the game\n",
    "    pred, update = elo_update(elo_dict[w] + w_ad, elo_dict[l] + l_ad,margin)\n",
    "    #update, penalizing loser as much as winner\n",
    "    #pure elo ratings systems have equal transactions of points\n",
    "    elo_dict[w] += update\n",
    "    elo_dict[l] -= update\n",
    "    \n",
    "    # Save prediction and new Elos for each round\n",
    "    preds.append(pred)\n",
    "    w_elo.append(elo_dict[w])\n",
    "    l_elo.append(elo_dict[l])\n",
    "\n",
    "a['w_elo'] = w_elo\n",
    "a['l_elo'] = l_elo"
   ]
  },
  {
   "cell_type": "markdown",
   "metadata": {},
   "source": [
    "Since the area of focus is on the season values we calculated the End of season values for each team per season. "
   ]
  },
  {
   "cell_type": "code",
   "execution_count": null,
   "metadata": {},
   "outputs": [],
   "source": [
    "#calculate season elos - for validation check of scores\n",
    "def final_elo_per_season(df, team_id):\n",
    "    d = df.copy()\n",
    "    #filtering for Team IDs, could be in LTeam or WTeam column\n",
    "    d = d.loc[(d.Wteam == team_id) | (d.Lteam == team_id), :]\n",
    "    #sort values based on season and date\n",
    "    d.sort_values(['Season','date'], inplace=True)\n",
    "    #drop duplicates leaving the last Elo value for each team each season\n",
    "    d.drop_duplicates(['Season'], keep='last', inplace=True)\n",
    "    w_mask = d.Wteam == team_id\n",
    "    l_mask = d.Lteam == team_id\n",
    "    d['season_elo'] = None\n",
    "    d.loc[w_mask, 'season_elo'] = d.loc[w_mask, 'w_elo']\n",
    "    d.loc[l_mask, 'season_elo'] = d.loc[l_mask, 'l_elo']\n",
    "    out = pd.DataFrame({\n",
    "        'team_name': team_id,\n",
    "        'season': d.Season,\n",
    "        'season_elo': d.season_elo\n",
    "    })\n",
    "    return(out)\n",
    "df_list = [final_elo_per_season(a, id) for id in team_ids]\n",
    "season_elos = pd.concat(df_list)"
   ]
  },
  {
   "cell_type": "markdown",
   "metadata": {},
   "source": [
    "Here we get the data ready for the model. We drop unnecessary columns and use index match for merging the season Elo ratings with game data cleaned then export the csv for the next step in the pipeline."
   ]
  },
  {
   "cell_type": "code",
   "execution_count": null,
   "metadata": {},
   "outputs": [],
   "source": [
    "games.drop(['WScore', 'LScore','wloc','Wteam','Lteam'], axis=1, inplace=True)\n",
    "#games.to_csv('game_elo.csv')\n",
    "df = pd.DataFrame()\n",
    "#changing Team names to include season so we can merge on specific season\n",
    "names = season_elos['team_name'].astype(str) + '_' + season_elos['season'].astype(str)\n",
    "df['team_name']= names\n",
    "df['season_elo']=season_elos['season_elo']\n",
    "#index-match season elo rating with Each team and the corresponding season\n",
    "games['homeSeasonElo'] = games.home_teamname_season.map(df.set_index(\"team_name\")[\"season_elo\"].to_dict())\n",
    "games['awaySeasonElo'] = games.away_teamname_season.map(df.set_index(\"team_name\")[\"season_elo\"].to_dict())\n",
    "#dataframe is exported as csv\n",
    "games.to_csv(r'~/jupyter/capstone_Group10/data/gamedatacleanedelo.csv', index = False)"
   ]
  },
  {
   "cell_type": "code",
   "execution_count": null,
   "metadata": {},
   "outputs": [],
   "source": []
  }
 ],
 "metadata": {
  "kernelspec": {
   "display_name": "Python 3",
   "language": "python",
   "name": "python3"
  },
  "language_info": {
   "codemirror_mode": {
    "name": "ipython",
    "version": 3
   },
   "file_extension": ".py",
   "mimetype": "text/x-python",
   "name": "python",
   "nbconvert_exporter": "python",
   "pygments_lexer": "ipython3",
   "version": "3.7.3"
  }
 },
 "nbformat": 4,
 "nbformat_minor": 2
}
